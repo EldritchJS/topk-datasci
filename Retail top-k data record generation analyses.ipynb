{
 "cells": [
  {
   "cell_type": "markdown",
   "metadata": {},
   "source": [
    "# Retail top-k data record generation analyses"
   ]
  },
  {
   "cell_type": "code",
   "execution_count": 127,
   "metadata": {
    "collapsed": true
   },
   "outputs": [],
   "source": [
    "import pandas as pd\n",
    "import numpy as np\n",
    "import seaborn as sns\n",
    "sns.set(color_codes=True)\n",
    "%matplotlib inline"
   ]
  },
  {
   "cell_type": "markdown",
   "metadata": {},
   "source": [
    "Since this is exploratory, I used Pandas to play with the data. If the data file had been larger I would have pursued a Spark-friendly solution. I start by reading in the sorted (by date) version of the dataset."
   ]
  },
  {
   "cell_type": "code",
   "execution_count": 128,
   "metadata": {
    "collapsed": true
   },
   "outputs": [],
   "source": [
    "df = pd.read_csv('sortedFull.csv')"
   ]
  },
  {
   "cell_type": "markdown",
   "metadata": {},
   "source": [
    "Next I can get frequencies for categories and sub-categories."
   ]
  },
  {
   "cell_type": "code",
   "execution_count": 129,
   "metadata": {},
   "outputs": [
    {
     "data": {
      "text/plain": [
       "Office Supplies    0.609729\n",
       "Technology         0.197719\n",
       "Furniture          0.192552\n",
       "Name: Category, dtype: float64"
      ]
     },
     "execution_count": 129,
     "metadata": {},
     "output_type": "execute_result"
    }
   ],
   "source": [
    "df['Category'].value_counts(normalize=True)"
   ]
  },
  {
   "cell_type": "code",
   "execution_count": 130,
   "metadata": {},
   "outputs": [],
   "source": [
    "office=df[df['Category'].values=='Office Supplies']\n",
    "tech=df[df['Category'].values=='Technology']\n",
    "furniture=df[df['Category'].values=='Furniture']"
   ]
  },
  {
   "cell_type": "code",
   "execution_count": 131,
   "metadata": {},
   "outputs": [
    {
     "data": {
      "text/plain": [
       "Binders       0.196719\n",
       "Storage       0.161769\n",
       "Art           0.156141\n",
       "Paper         0.113133\n",
       "Labels        0.083331\n",
       "Envelopes     0.077863\n",
       "Supplies      0.077543\n",
       "Fasteners     0.077383\n",
       "Appliances    0.056119\n",
       "Name: Sub-Category, dtype: float64"
      ]
     },
     "execution_count": 131,
     "metadata": {},
     "output_type": "execute_result"
    }
   ],
   "source": [
    "office['Sub-Category'].value_counts(normalize=True)"
   ]
  },
  {
   "cell_type": "code",
   "execution_count": 132,
   "metadata": {},
   "outputs": [
    {
     "data": {
      "text/plain": [
       "Phones         0.331032\n",
       "Accessories    0.303225\n",
       "Copiers        0.219209\n",
       "Machines       0.146534\n",
       "Name: Sub-Category, dtype: float64"
      ]
     },
     "execution_count": 132,
     "metadata": {},
     "output_type": "execute_result"
    }
   ],
   "source": [
    "tech['Sub-Category'].value_counts(normalize=True)"
   ]
  },
  {
   "cell_type": "code",
   "execution_count": 133,
   "metadata": {},
   "outputs": [
    {
     "data": {
      "text/plain": [
       "Chairs         0.347712\n",
       "Furnishings    0.320980\n",
       "Bookcases      0.244127\n",
       "Tables         0.087181\n",
       "Name: Sub-Category, dtype: float64"
      ]
     },
     "execution_count": 133,
     "metadata": {},
     "output_type": "execute_result"
    }
   ],
   "source": [
    "furniture['Sub-Category'].value_counts(normalize=True)"
   ]
  },
  {
   "cell_type": "markdown",
   "metadata": {},
   "source": [
    "Visualizations are nice, here's a histogram of the count of records within the Furniture category broken down by sub-category, using the oft applauded Seaborn."
   ]
  },
  {
   "cell_type": "code",
   "execution_count": 134,
   "metadata": {},
   "outputs": [
    {
     "data": {
      "text/plain": [
       "<matplotlib.axes._subplots.AxesSubplot at 0x11998c710>"
      ]
     },
     "execution_count": 134,
     "metadata": {},
     "output_type": "execute_result"
    },
    {
     "data": {
      "image/png": "[encoded data removed]",
      "text/plain": [
       "<matplotlib.figure.Figure at 0x119694b00>"
      ]
     },
     "metadata": {},
     "output_type": "display_data"
    }
   ],
   "source": [
    "plt.rcParams[\"figure.figsize\"] = [12,9]\n",
    "sns.countplot(x=\"Sub-Category\", data=furniture, palette='Greens_d')"
   ]
  },
  {
   "cell_type": "markdown",
   "metadata": {},
   "source": [
    "Here's a histogram of all the categories broken down by sub-category. I don't like this one as much as I find it a bit crowded. At the same time it does give a full picture and it's Seaborn so it looks pretty to boot."
   ]
  },
  {
   "cell_type": "code",
   "execution_count": 135,
   "metadata": {},
   "outputs": [
    {
     "data": {
      "text/plain": [
       "<matplotlib.axes._subplots.AxesSubplot at 0x11e99d4e0>"
      ]
     },
     "execution_count": 135,
     "metadata": {},
     "output_type": "execute_result"
    },
    {
     "data": {
      "image/png": "[encoded data removed]",
      "text/plain": [
       "<matplotlib.figure.Figure at 0x11a515b70>"
      ]
     },
     "metadata": {},
     "output_type": "display_data"
    }
   ],
   "source": [
    "plt.rcParams[\"figure.figsize\"] = [20,9]\n",
    "sns.countplot(x=\"Category\", hue=\"Sub-Category\", data=df)"
   ]
  },
  {
   "cell_type": "markdown",
   "metadata": {},
   "source": [
    "Next up, temporal information. Specifically we will eventually want to put seasonality into the mix, and as such should have some idea of purchase frequencies by month. Note: using the frequencies determined above independent of the below month frequencies is a tad naive. However, in the interest of getting data synthesized, we go with it and reserve the option of deriving more precise frequencies later. "
   ]
  },
  {
   "cell_type": "code",
   "execution_count": 136,
   "metadata": {},
   "outputs": [
    {
     "data": {
      "text/plain": [
       "11    0.110353\n",
       "12    0.107896\n",
       "9     0.102106\n",
       "6     0.095379\n",
       "8     0.091928\n",
       "10    0.087093\n",
       "5     0.076779\n",
       "3     0.072685\n",
       "7     0.069624\n",
       "4     0.068220\n",
       "1     0.060870\n",
       "2     0.057068\n",
       "Name: Order Month, dtype: float64"
      ]
     },
     "execution_count": 136,
     "metadata": {},
     "output_type": "execute_result"
    }
   ],
   "source": [
    "df['Order Date']=pd.to_datetime(df['Order Date'], dayfirst=True)\n",
    "df['Order Month'] = [dt.month for dt in bah['Order Date'].astype(object)]\n",
    "df['Order Month'].value_counts(normalize=True)"
   ]
  },
  {
   "cell_type": "markdown",
   "metadata": {},
   "source": [
    "One last histogram by month. Interestingly, while the holiday months of November and December do support a seasonality suspicion, September and June are also quite high. As this data represents an \"office superstore\" perhaps these months are driven by end of school/back to school purchases? "
   ]
  },
  {
   "cell_type": "code",
   "execution_count": 137,
   "metadata": {},
   "outputs": [
    {
     "data": {
      "text/plain": [
       "<matplotlib.axes._subplots.AxesSubplot at 0x11ea550b8>"
      ]
     },
     "execution_count": 137,
     "metadata": {},
     "output_type": "execute_result"
    },
    {
     "data": {
      "image/png": "[encoded data removed]",
      "text/plain": [
       "<matplotlib.figure.Figure at 0x11a43d9e8>"
      ]
     },
     "metadata": {},
     "output_type": "display_data"
    }
   ],
   "source": [
    "sns.countplot(x=\"Order Month\", data=df, palette='Greens_d')"
   ]
  },
  {
   "cell_type": "code",
   "execution_count": null,
   "metadata": {
    "collapsed": true
   },
   "outputs": [],
   "source": []
  }
 ],
 "metadata": {
  "kernelspec": {
   "display_name": "Python with Pixiedust (Spark 2.2)",
   "language": "python",
   "name": "pythonwithpixiedustspark22"
  },
  "language_info": {
   "codemirror_mode": {
    "name": "ipython",
    "version": 3
   },
   "file_extension": ".py",
   "mimetype": "text/x-python",
   "name": "python",
   "nbconvert_exporter": "python",
   "pygments_lexer": "ipython3",
   "version": "3.6.1"
  }
 },
 "nbformat": 4,
 "nbformat_minor": 2
}
